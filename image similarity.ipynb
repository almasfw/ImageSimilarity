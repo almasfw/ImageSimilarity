{
 "cells": [
  {
   "cell_type": "markdown",
   "metadata": {},
   "source": [
    "# Tugas Pengenalan Pola Citra"
   ]
  },
  {
   "cell_type": "markdown",
   "metadata": {},
   "source": [
    "Almas Fauzia Wibawa (17/409427/PA/17734)"
   ]
  },
  {
   "cell_type": "markdown",
   "metadata": {},
   "source": [
    " ----------------------------------------------------------------------------------------------------------------------"
   ]
  },
  {
   "cell_type": "markdown",
   "metadata": {},
   "source": [
    "Dalam mengerjakan tugas ini, saya akan menggunakan 5 citra wajah. Kelima citra tersebut akan melalui proses preprocessing, ekstrak fitur warna, dan perhitungan similaritas."
   ]
  },
  {
   "cell_type": "markdown",
   "metadata": {},
   "source": [
    "Sebagai gambaran, citra wajah yang saya gunakan saya beri nama file dari 0 sampai 4. Kesemuanya adalah citra aktor dan aktris Hollywood, secara berurutan yaitu: (1) Chris Hemsworth, (2) Liam Hemsworth, (3) Emma Watson, (4) Lupita Nyong'o, dan (5) Idris Elba. Alasan dipilihnya kelima orang itu adalah:"
   ]
  },
  {
   "cell_type": "markdown",
   "metadata": {},
   "source": [
    "1.   Chris Hemsworth = bersaudara dengan Liam Hemsworth (citra kedua) dan mewakili individu laki-laki berkulit putih.\n",
    "2.   Liam Hemsworth = bersaudara dengan Chris Hemsworth (citra pertama) dan mewakili individu laki-laki berkulit putih.\n",
    "3.   Emma Watson = mewakili individu perempuan berkulit putih.\n",
    "4.   Lupita Nyong'o = mewakili individu perempuan berkulit hitam.\n",
    "5.   Idris Elba = mewakili individu laki-laki berkulit hitam."
   ]
  },
  {
   "cell_type": "markdown",
   "metadata": {},
   "source": [
    "Terdapat beberapa kesamaan yang dimiliki kelima individu tersebut. Diharapkan, dapat dilihat kesamaan yang mana yang ditangkap dengan membandingkan fitur warna pada kelima citra wajah mereka."
   ]
  },
  {
   "cell_type": "markdown",
   "metadata": {},
   "source": [
    "### 1. Import Library"
   ]
  },
  {
   "cell_type": "markdown",
   "metadata": {},
   "source": [
    "Pertama dan yang utama, saya perlu terlebih dahulu meng-import library yang akan saya gunakan di sepanjang proses preprocessing, ekstraksi fitur, dan menghitung similaritas."
   ]
  },
  {
   "cell_type": "markdown",
   "metadata": {},
   "source": [
    "Saya menggunakan library Numpy untuk mengolah piksel citra dengan array, CV2 untuk mengolah citranya, dan pandas untuk menampilkan tabel perbandingan nilai similaritasnya."
   ]
  },
  {
   "cell_type": "code",
   "execution_count": 136,
   "metadata": {},
   "outputs": [],
   "source": [
    "import numpy as np\n",
    "import cv2\n",
    "import pandas"
   ]
  },
  {
   "cell_type": "markdown",
   "metadata": {},
   "source": [
    "### 2. Preprocessing"
   ]
  },
  {
   "cell_type": "markdown",
   "metadata": {},
   "source": [
    "Yang selanjutnya saya lakukan adalah preprocessing. Karena kelima citra yang saya gunakan sama jenisnya, yaitu wajah, preprocessing yang dilakukan kepada kelima citra tersebut pun juga akan sama. Oleh karena itu, saya akan menggunakan perulangan untuk preprocessing-nya."
   ]
  },
  {
   "cell_type": "markdown",
   "metadata": {},
   "source": [
    "Pada proses preprocessing ini, pertama-tama, saya akan meng-import citra yang akan diolah. Kemudian, saya akan lakukan deteksi wajah. Selanjutnya, berdasarkan deteksi wajah tersebut, saya akan potong citra agar hanya wajah yang ditampilkan. Saya juga perlu menyamakan ukuran citra setelah preprocessing. Oleh karena itu, saya akan menyimpan ukuran terkecil citra hasil pemotongan di dalam variabel minSize. Kelima citra hasil pemotongan akan kemudian saya resize dengan ukuran citra terkecil tersebut."
   ]
  },
  {
   "cell_type": "markdown",
   "metadata": {},
   "source": [
    "Saya tidak melakukan perubahan warna ke grayscale karena fitur yang akan diekstrak adalah fitur warna. Dengan begitu, perubahan citra ke grayscale menjadi hal yang tidak perlu dilakukan."
   ]
  },
  {
   "cell_type": "code",
   "execution_count": 137,
   "metadata": {},
   "outputs": [
    {
     "name": "stdout",
     "output_type": "stream",
     "text": [
      "Number of faces detected: 1\n",
      "Number of faces detected: 1\n",
      "Number of faces detected: 1\n",
      "Number of faces detected: 1\n",
      "Number of faces detected: 1\n"
     ]
    }
   ],
   "source": [
    "minSize = 0\n",
    "images = []\n",
    "n = 5\n",
    "\n",
    "for i in range(n):\n",
    "    #import citra\n",
    "    image = cv2.imread(str(i) + '.jpg')\n",
    "    imageRGB = cv2.cvtColor(image, cv2.COLOR_BGR2RGB)\n",
    "\n",
    "    #deteksi wajah\n",
    "    face_cascade = cv2.CascadeClassifier(\n",
    "        'C:/ProgramData/Anaconda3/Lib/site-packages/cv2/data/haarcascade_frontalface_default.xml')\n",
    "    eye_cascade = cv2.CascadeClassifier('C:/ProgramData/Anaconda3/Lib/site-packages/cv2/data/haarcascade_eye.xml')\n",
    "    faces = face_cascade.detectMultiScale(imageRGB, 1.25, 5)\n",
    "\n",
    "    print('Number of faces detected:', len(faces))\n",
    "\n",
    "    #memotong citra\n",
    "    for f in faces:\n",
    "        x, y, w, h = [ v for v in f ]\n",
    "        face = imageRGB[y:y+h, x:x+w]\n",
    "\n",
    "    #menyimpan size terkecil dari semua citra\n",
    "    if (i == 0) | (face.shape[0] < minSize):\n",
    "        minSize = face.shape[0]\n",
    "    \n",
    "    #menyimpan sementara piksel citra\n",
    "    images.append(face)\n",
    "\n",
    "#resize citra\n",
    "for i in range(n):\n",
    "    images[i] = cv2.resize(images[i], (minSize, minSize))\n",
    "    cv2.imwrite('cropped' + str(i) + '.jpg',cv2.cvtColor(images[i], cv2.COLOR_RGB2BGR))"
   ]
  },
  {
   "cell_type": "markdown",
   "metadata": {},
   "source": [
    "### 3. Ekstraksi Fitur Warna"
   ]
  },
  {
   "cell_type": "markdown",
   "metadata": {},
   "source": [
    "Setelah dilakukan preprocessing, dilakukan ekstraksi fitur. Fitur yang akan diekstrak kali ini adalah fitur warna pada piksel. Fitur dari setiap citra disimpan masing-masing dalam satu array numpy, yang kemudian disatukan dalam satu array. Piksel disimpan dalam bentuk RGB."
   ]
  },
  {
   "cell_type": "code",
   "execution_count": 139,
   "metadata": {},
   "outputs": [],
   "source": [
    "pixels = []\n",
    "for i in range(n):\n",
    "    pixels.append(np.asarray(cv2.cvtColor(cv2.imread('cropped' + str(i) + '.jpg'), cv2.COLOR_BGR2RGB)))"
   ]
  },
  {
   "cell_type": "markdown",
   "metadata": {},
   "source": [
    "### 4. Menghitung Similaritas"
   ]
  },
  {
   "cell_type": "markdown",
   "metadata": {},
   "source": [
    "Saya sudah mendapatkan fitur warna dari kelima citra hasil preprocessing. Yang selanjutnya dilakukan adalah menghitung similaritas antara kelima citra tersebut."
   ]
  },
  {
   "cell_type": "markdown",
   "metadata": {},
   "source": [
    "Perhitungan similaritas yang saya gunakan adalah perhitungan jarak dengan metode Euclidean Distance. Setelah ditemukan similaritasnya, akan langsung saya tampilkan tabel perbandingannya."
   ]
  },
  {
   "cell_type": "code",
   "execution_count": 140,
   "metadata": {},
   "outputs": [],
   "source": [
    "#fungsi perhitungan Euclidean Distance\n",
    "def euclidean(img1, img2):\n",
    "    if (img1.shape != img2.shape):\n",
    "        return False\n",
    "    else:\n",
    "        distance = 0\n",
    "        n = img1.shape[0]\n",
    "        m = img1.shape[1]\n",
    "        \n",
    "        for i in range(n):\n",
    "            for j in range(m):\n",
    "                distance = np.sum((img1[i][j]-img2[i][j])**2)**0.5\n",
    "        return distance"
   ]
  },
  {
   "cell_type": "code",
   "execution_count": 141,
   "metadata": {},
   "outputs": [
    {
     "data": {
      "text/html": [
       "<div>\n",
       "<style scoped>\n",
       "    .dataframe tbody tr th:only-of-type {\n",
       "        vertical-align: middle;\n",
       "    }\n",
       "\n",
       "    .dataframe tbody tr th {\n",
       "        vertical-align: top;\n",
       "    }\n",
       "\n",
       "    .dataframe thead th {\n",
       "        text-align: right;\n",
       "    }\n",
       "</style>\n",
       "<table border=\"1\" class=\"dataframe\">\n",
       "  <thead>\n",
       "    <tr style=\"text-align: right;\">\n",
       "      <th></th>\n",
       "      <th>0</th>\n",
       "      <th>1</th>\n",
       "      <th>2</th>\n",
       "      <th>3</th>\n",
       "      <th>4</th>\n",
       "    </tr>\n",
       "  </thead>\n",
       "  <tbody>\n",
       "    <tr>\n",
       "      <th>0</th>\n",
       "      <td>0.000000</td>\n",
       "      <td>21.023796</td>\n",
       "      <td>12.806248</td>\n",
       "      <td>14.966630</td>\n",
       "      <td>16.613248</td>\n",
       "    </tr>\n",
       "    <tr>\n",
       "      <th>1</th>\n",
       "      <td>21.023796</td>\n",
       "      <td>0.000000</td>\n",
       "      <td>23.194827</td>\n",
       "      <td>12.727922</td>\n",
       "      <td>14.628739</td>\n",
       "    </tr>\n",
       "    <tr>\n",
       "      <th>2</th>\n",
       "      <td>12.806248</td>\n",
       "      <td>23.194827</td>\n",
       "      <td>0.000000</td>\n",
       "      <td>15.620499</td>\n",
       "      <td>16.733201</td>\n",
       "    </tr>\n",
       "    <tr>\n",
       "      <th>3</th>\n",
       "      <td>14.966630</td>\n",
       "      <td>12.727922</td>\n",
       "      <td>15.620499</td>\n",
       "      <td>0.000000</td>\n",
       "      <td>15.099669</td>\n",
       "    </tr>\n",
       "    <tr>\n",
       "      <th>4</th>\n",
       "      <td>16.613248</td>\n",
       "      <td>14.628739</td>\n",
       "      <td>16.733201</td>\n",
       "      <td>15.099669</td>\n",
       "      <td>0.000000</td>\n",
       "    </tr>\n",
       "  </tbody>\n",
       "</table>\n",
       "</div>"
      ],
      "text/plain": [
       "           0          1          2          3          4\n",
       "0   0.000000  21.023796  12.806248  14.966630  16.613248\n",
       "1  21.023796   0.000000  23.194827  12.727922  14.628739\n",
       "2  12.806248  23.194827   0.000000  15.620499  16.733201\n",
       "3  14.966630  12.727922  15.620499   0.000000  15.099669\n",
       "4  16.613248  14.628739  16.733201  15.099669   0.000000"
      ]
     },
     "execution_count": 141,
     "metadata": {},
     "output_type": "execute_result"
    }
   ],
   "source": [
    "similarity = [[None for i in range(n)] for j in range(n)]\n",
    "\n",
    "#menghitung similaritas antar citra\n",
    "for i in range(n):\n",
    "    for j in range(n):\n",
    "        similarity[i][j] = euclidean(pixels[i], pixels[j])\n",
    "\n",
    "#menampilkan tabel perbandingan similaritas\n",
    "pandas.DataFrame(similarity)"
   ]
  },
  {
   "cell_type": "markdown",
   "metadata": {},
   "source": [
    "Tabel di atas adalah tabel perbandingan similaritas citra wajah kelima individu yang telah saya jelaskan di awal."
   ]
  },
  {
   "cell_type": "markdown",
   "metadata": {},
   "source": [
    "Jika diurutkan berdasarkan nilai similaritas citra wajahnya, pasangan aktor/aktris yang dinilai mirip adalah sebagai berikut:"
   ]
  },
  {
   "cell_type": "markdown",
   "metadata": {},
   "source": [
    "1. (12.727922) Lupita Nyong'o - Idris Elba\n",
    "2. (12.806248) Chris Hemsworth - Liam Hemsworth\n",
    "3. (14.628739) Emma Watson - Lupita Nyong'o\n",
    "4. (14.966630) Chris Hemsworth - Idris Elba\n",
    "5. (15.099669) Emma Watson - Idris Elba\n",
    "6. (15.620499) Liam Hemsworth - Idris Elba\n",
    "7. (16.613248) Chris Hemsworth - Emma Watson\n",
    "8. (16.733201) Liam Hemsworth - Emma Watson\n",
    "9. (21.023796) Chris Hemsworth - Lupita Nyong'o\n",
    "10. (23.194827) Liam Hemsworth - Lupita Nyong'o"
   ]
  },
  {
   "cell_type": "markdown",
   "metadata": {},
   "source": [
    "Urutan pertama, kedua, dan ketiga merupakan salah satu petunjuk bahwa warna kulit hitam, hubungan saudara, dan jenis kelamin perempuan dapat dinilai kesamaannya dengan metode Euclidean Distance dengan fitur warna. Sedangkan kesamaan jenis kelamin laki-laki dan warna kulit putih kurang dapat dinilai kesamaannya dengan metode ini karena kesamaan terhadap keduanya berada di peringkat 4, 6, 7, dan 8. Pasangan Chris Hemsworth dengan Lupita Nyong'o dan Liam Hemsworth dengan Lupita Nyong'o terasa sangat tepat berada di peringkat 9 dan 10 dengan nilai yang terpaut agak jauh dengan peringkat atasnya dikarenakan tidak adanya kesamaan di antara kedua individu dari dua pasangan tersebut."
   ]
  },
  {
   "cell_type": "markdown",
   "metadata": {},
   "source": [
    "Walaupun begitu, metode ini dapat dinilai kurang efektif digunakan untuk pengenalan pola karena perbedaan antar pasangannya tidak cukup jauh sehingga nilai error kemungkinan masih ada. Selain itu, bukti lain yang menunjukkan bahwa metode ini kurang tepat adalah bertempatnya pasangan Emma Watson dan Idris Elba, yang tidak memiliki kesamaan wajah apapun, berada diperingkat 5. Peringkat yang cukup tinggi dengan nilai kesamaan yang tidak jauh berbeda dengan peringkat atasnya."
   ]
  },
  {
   "cell_type": "markdown",
   "metadata": {},
   "source": [
    "#  "
   ]
  },
  {
   "cell_type": "markdown",
   "metadata": {},
   "source": [
    "###### Disklaimer!"
   ]
  },
  {
   "cell_type": "markdown",
   "metadata": {},
   "source": [
    "Penulis tidak bermaksud rasis atau seksis. Penggolongan berdasarkan warna kulit dan jenis kelamin hanya dilakukan dengan tujuan analisa salah satu metode pengenalan pola berdasarkan fitur warna piksel pada citra wajah."
   ]
  }
 ],
 "metadata": {
  "kernelspec": {
   "display_name": "Python 3",
   "language": "python",
   "name": "python3"
  },
  "language_info": {
   "codemirror_mode": {
    "name": "ipython",
    "version": 3
   },
   "file_extension": ".py",
   "mimetype": "text/x-python",
   "name": "python",
   "nbconvert_exporter": "python",
   "pygments_lexer": "ipython3",
   "version": "3.7.4"
  }
 },
 "nbformat": 4,
 "nbformat_minor": 2
}
